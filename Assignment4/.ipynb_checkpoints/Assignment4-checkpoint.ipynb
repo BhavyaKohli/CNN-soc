{
 "cells": [
  {
   "cell_type": "markdown",
   "id": "enormous-digit",
   "metadata": {},
   "source": [
    "# Assignment 4 : Neural Networks"
   ]
  },
  {
   "cell_type": "markdown",
   "id": "fossil-examination",
   "metadata": {},
   "source": [
    "In this assignment, you will design an artificial neural network for a binary classification task. We will use Keras for implementing the neural network in this assignment. You can also use numpy, pandas and/or scikit-learn wherever you find them useful. You'll also need matplotlib"
   ]
  },
  {
   "cell_type": "markdown",
   "id": "promotional-gallery",
   "metadata": {},
   "source": [
    "#### Import the required libraries here"
   ]
  },
  {
   "cell_type": "code",
   "execution_count": 2,
   "id": "cathedral-liberty",
   "metadata": {},
   "outputs": [
    {
     "name": "stdout",
     "output_type": "stream",
     "text": [
      "INFO:tensorflow:Enabling eager execution\n",
      "INFO:tensorflow:Enabling v2 tensorshape\n",
      "INFO:tensorflow:Enabling resource variables\n",
      "INFO:tensorflow:Enabling tensor equality\n",
      "INFO:tensorflow:Enabling control flow v2\n"
     ]
    }
   ],
   "source": [
    "import numpy as np\n",
    "import matplotlib.pyplot as plt\n",
    "import keras"
   ]
  },
  {
   "cell_type": "markdown",
   "id": "august-conditions",
   "metadata": {},
   "source": [
    "Load the dataset from the file named 'data.csv' . You'll find 7200 datapoints in this file. The first 6 columns are the features (X), while the last column has a binary label (Y) for each feature vector. After loading the dataset, divide it into a training set and a test set (cross-validation set to be more accurate). You can have 70% datapoints in the training set and 30% in the test set. An 80-20 split is also acceptable.\n",
    "\n",
    "Normalize your training set using mean and variances."
   ]
  },
  {
   "cell_type": "code",
   "execution_count": 3,
   "id": "narrow-fraud",
   "metadata": {},
   "outputs": [],
   "source": [
    "data = np.loadtxt('data.csv', delimiter = \",\")\n",
    "#print(data)\n",
    "\n",
    "limit = int(0.7*len(data))\n",
    "train = data[0:limit]\n",
    "test = data[limit:len(data)]\n",
    "\n",
    "trainx = train[:, 0:5]\n",
    "trainy = train[:, 6]\n",
    "\n",
    "testx = test[:, 0:5]\n",
    "testy = test[:, 6]"
   ]
  },
  {
   "cell_type": "code",
   "execution_count": 4,
   "id": "abstract-circle",
   "metadata": {},
   "outputs": [
    {
     "name": "stdout",
     "output_type": "stream",
     "text": [
      "[[ 2.81212594 -0.72010393 -0.65036975 -0.14189137 -0.32591212]\n",
      " [ 0.43922679 -0.72179886 -0.57772998 -0.03051038 -0.0789369 ]\n",
      " [ 1.5530366  -0.71380849 -0.60678589 -0.22905909 -0.0886222 ]\n",
      " ...\n",
      " [ 0.91219987 -0.72138051 -0.61717101 -0.12024609 -0.24568345]\n",
      " [ 1.39465125 -0.71269638 -0.60752198 -0.30357761 -0.23603442]\n",
      " [ 0.96044501 -0.72774886 -0.62199552 -0.10094803 -0.28910407]]\n"
     ]
    }
   ],
   "source": [
    "def normalize(train):\n",
    "    m = len(train)\n",
    "    n = len(train[0])\n",
    "    train = train.flatten().reshape(n, m)\n",
    "    \n",
    "    for i in range(n):\n",
    "        std = np.std(train[i])\n",
    "        mean = np.mean(train[i])\n",
    "        train[i] -= mean\n",
    "        train[i] /= std\n",
    "        \n",
    "    return train.flatten().reshape(m, n)\n",
    "\n",
    "ntrainx = normalize(trainx)\n",
    "ntestx = normalize(testx)\n",
    "print(ntrainx)"
   ]
  },
  {
   "cell_type": "markdown",
   "id": "green-bones",
   "metadata": {},
   "source": [
    "Find the number of positive and negative samples in the training set /test set /the whole dataset. You'll use this result while evaluating your neural network model later."
   ]
  },
  {
   "cell_type": "code",
   "execution_count": 5,
   "id": "purple-swimming",
   "metadata": {},
   "outputs": [
    {
     "name": "stdout",
     "output_type": "stream",
     "text": [
      "50400\n",
      "50400\n"
     ]
    }
   ],
   "source": [
    "def numpos(X):\n",
    "    nump = 0\n",
    "    X = X.flatten()\n",
    "    for i in range(len(X)):\n",
    "        if np.maximum(0, X[i]) == X[i]:\n",
    "            nump += 1\n",
    "    \n",
    "    return nump\n",
    "\n",
    "train_numpos = numpos(train)\n",
    "test_numpos = numpos(test)\n",
    "\n",
    "total_numpos = numpos(data)\n",
    "\n",
    "print(train_numpos+test_numpos)\n",
    "print(total_numpos)"
   ]
  },
  {
   "cell_type": "markdown",
   "id": "cooperative-stewart",
   "metadata": {},
   "source": [
    "#### Define the architecture of the neural network\n",
    "\n",
    "Initialise a sequential neural network model using keras.models.Sequential(), and add dense layers (dense layer means fully-connected layer) to it using keras.layers.Dense() (you easily how to do this from the internet).\n",
    "\n",
    "Use ReLU activation function in every layer, except the last one, where you'll use the sigmoid activation function, since it's a binary classification task.\n",
    "\n",
    "The choice of the number of layers and the number of units in a layer is totally up to you."
   ]
  },
  {
   "cell_type": "code",
   "execution_count": 91,
   "id": "romance-format",
   "metadata": {},
   "outputs": [],
   "source": [
    "model = keras.models.Sequential()\n",
    "model.add(keras.layers.Dense(100, activation = 'relu'))\n",
    "model.add(keras.layers.Dense(10, activation = 'relu'))\n",
    "model.add(keras.layers.Dense(1, activation = 'sigmoid'))"
   ]
  },
  {
   "cell_type": "markdown",
   "id": "atmospheric-drunk",
   "metadata": {},
   "source": [
    "#### Training the neural network\n",
    "\n",
    "1. Compile your nn model using model.compile() . Use the appropriate loss function (binary cross-entropy), and use Adam optimizer. Pass on 'accuracy' as a metric, so that you get to see the accuracy on your training set after every iteration of Adam optimization (a form of mini-batch gradient descent).\n",
    "\n",
    "Try to look-up and learn a bit about what stochastic gradient descent and mini-batch gradient descent essentilly are. You'll use mini-batches while training your model.\n",
    "\n",
    "2. Train your model using model.fit() (this will take a while, perhaps a few minutes). Use appropriate number of ephocs and batch size (you have to decide which values work the best). Don't forget that you have to train your model on the training set, and not the test set"
   ]
  },
  {
   "cell_type": "code",
   "execution_count": 92,
   "id": "infrared-hormone",
   "metadata": {},
   "outputs": [],
   "source": [
    "model.compile(loss = 'binary_crossentropy', optimizer = 'adam', metrics = ['accuracy', keras.metrics.Precision(), keras.metrics.Recall()])\n",
    "mtraining = model.fit(ntrainx, trainy, validation_data = (ntestx, testy), epochs = 150, verbose = 0)"
   ]
  },
  {
   "cell_type": "markdown",
   "id": "imposed-recording",
   "metadata": {},
   "source": [
    "#### Evaluation of the model on the test set\n",
    "\n",
    "Find the accuracy of your trained model on the test set. Don't forget that you had normalized your training set before training the same model."
   ]
  },
  {
   "cell_type": "code",
   "execution_count": 93,
   "id": "stuck-samoa",
   "metadata": {
    "scrolled": true
   },
   "outputs": [
    {
     "name": "stdout",
     "output_type": "stream",
     "text": [
      "Accuracy of the model:  96.4814841747284 %\n",
      "Precision of the model:  80.98591566085815 %\n",
      "Recall of the model:  70.12194991111755 %\n"
     ]
    },
    {
     "data": {
      "image/png": "[encoded data removed]",
      "text/plain": [
       "<Figure size 432x288 with 1 Axes>"
      ]
     },
     "metadata": {
      "needs_background": "light"
     },
     "output_type": "display_data"
    },
    {
     "data": {
      "image/png": "[encoded data removed]",
      "text/plain": [
       "<Figure size 432x288 with 1 Axes>"
      ]
     },
     "metadata": {
      "needs_background": "light"
     },
     "output_type": "display_data"
    }
   ],
   "source": [
    "evaluation = model.evaluate(ntestx, testy, verbose = 0)\n",
    "\n",
    "accuracy = evaluation[1]*100\n",
    "precision = evaluation[2]*100\n",
    "recall = evaluation[3]*100\n",
    "\n",
    "print(\"Accuracy of the model: \", accuracy, \"%\")\n",
    "print(\"Precision of the model: \", precision, \"%\")\n",
    "print(\"Recall of the model: \", recall, \"%\")\n",
    "\n",
    "plt.title(\"Accuracy\")\n",
    "plt.plot(mtraining.history['accuracy'], label = 'train')\n",
    "plt.plot(mtraining.history['val_accuracy'], label = 'test')\n",
    "plt.legend()\n",
    "plt.show()\n",
    "\n",
    "plt.title(\"Loss\")\n",
    "plt.plot(mtraining.history['loss'], label = 'train')\n",
    "plt.plot(mtraining.history['val_loss'], label = 'test')\n",
    "plt.legend()\n",
    "plt.show()"
   ]
  },
  {
   "cell_type": "markdown",
   "id": "informed-serbia",
   "metadata": {},
   "source": [
    "Is accuracy really the best metric to evaluate our model on the test set here? What was the proportion of positive samples to negative samples in the dataset? What would have been the accuracy of a model that would have output '0' for any input? By the way, this dataset is for detecting the presence of thyroid in a patient.\n",
    "\n",
    "Now, find out about the metrics - recall, precision and F1-score. Use these metrics to evaluate your model on the test set"
   ]
  },
  {
   "cell_type": "code",
   "execution_count": 94,
   "id": "interior-settlement",
   "metadata": {},
   "outputs": [
    {
     "name": "stdout",
     "output_type": "stream",
     "text": [
      "75.1633980134769\n"
     ]
    }
   ],
   "source": [
    "f1_score = 2*recall*precision/(recall + precision)\n",
    "print(f1_score)"
   ]
  },
  {
   "cell_type": "markdown",
   "id": "celtic-chapter",
   "metadata": {},
   "source": [
    "Now, tune the hyperparameters of your model (like number of layers, number of units in different layers, etc.) to try and do better and better on the test set."
   ]
  },
  {
   "cell_type": "markdown",
   "id": "extended-wound",
   "metadata": {},
   "source": [
    "\n",
    "#### Plotting histograms based on prediction values\n",
    "\n",
    "Now, you will plot 2 historgrams of prediction values (0 to 1, or 0% to 100%) on the training data, output by your nn model - one histogram for positive samples and another for negative samples. Plot both the histograms in the same figure. \n",
    "\n",
    "Here's one such plot I made with my nn model:\n",
    "<img src=\"files/index.jpeg\">\n",
    "\n",
    "The blue histogram is for negative samples and the red one is for positive samples (add a legend to the plots, unlike me).\n",
    "\n",
    "Use log-scale on the y-axis (number of occurances in the given predicted value range), like I have done.\n",
    "\n",
    "Now, what can you infer from the histograms you got? How should an ideal pair of histograms look like?"
   ]
  },
  {
   "cell_type": "code",
   "execution_count": 95,
   "id": "pediatric-filename",
   "metadata": {},
   "outputs": [
    {
     "name": "stdout",
     "output_type": "stream",
     "text": [
      "[[0.00028992 0.        ]\n",
      " [0.00068849 0.        ]\n",
      " [0.00354925 0.        ]\n",
      " ...\n",
      " [0.00053346 0.        ]\n",
      " [0.00154048 0.        ]\n",
      " [0.00030836 0.        ]]\n"
     ]
    }
   ],
   "source": [
    "prediction = np.hstack((model.predict(ntrainx),model.predict_classes(ntrainx)))\n",
    "print(prediction)\n",
    "\n",
    "positives = np.array([])\n",
    "negatives = np.array([])\n",
    "\n",
    "for i in range(len(ntrainx)):\n",
    "    if prediction[i][1] == 1:\n",
    "        positives = np.append(positives, prediction[i, 0:1])\n",
    "    else:\n",
    "        negatives = np.append(negatives, prediction[i, 0:1])"
   ]
  },
  {
   "cell_type": "code",
   "execution_count": 96,
   "id": "irish-failing",
   "metadata": {},
   "outputs": [
    {
     "data": {
      "image/png": "[encoded data removed]",
      "text/plain": [
       "<Figure size 432x288 with 1 Axes>"
      ]
     },
     "metadata": {
      "needs_background": "light"
     },
     "output_type": "display_data"
    }
   ],
   "source": [
    "plt.hist([positives, negatives], bins = np.arange(0, 1, 0.01), label = ['Positives', 'Negatives'], color = ['blue', 'orange'])\n",
    "plt.yscale('log')\n",
    "plt.ylim([0.01, 100])\n",
    "plt.ylabel('Occurances')\n",
    "plt.xlabel('Anomaly Score')\n",
    "plt.show()"
   ]
  },
  {
   "cell_type": "code",
   "execution_count": null,
   "id": "responsible-contrary",
   "metadata": {},
   "outputs": [],
   "source": []
  },
  {
   "cell_type": "code",
   "execution_count": null,
   "id": "cosmetic-parade",
   "metadata": {},
   "outputs": [],
   "source": []
  }
 ],
 "metadata": {
  "kernelspec": {
   "display_name": "Python 3",
   "language": "python",
   "name": "python3"
  },
  "language_info": {
   "codemirror_mode": {
    "name": "ipython",
    "version": 3
   },
   "file_extension": ".py",
   "mimetype": "text/x-python",
   "name": "python",
   "nbconvert_exporter": "python",
   "pygments_lexer": "ipython3",
   "version": "3.9.3"
  }
 },
 "nbformat": 4,
 "nbformat_minor": 5
}
